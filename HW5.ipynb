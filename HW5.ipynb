{
 "cells": [
  {
   "cell_type": "code",
   "execution_count": null,
   "id": "850d98b8",
   "metadata": {},
   "outputs": [],
   "source": [
    "#packages\n",
    "import numpy as np\n",
    "import pymc as pm\n",
    "import pandas as pd\n",
    "import arviz as az\n",
    "import matplotlib.pyplot as plt;\n",
    "from scipy import stats\n"
   ]
  },
  {
   "cell_type": "markdown",
   "id": "4e604350",
   "metadata": {},
   "source": [
    "data from https://www.kaggle.com/datasets/arashnic/fitbit/data\n",
    "The relation between the \"TotalSteps\" and \"Calories\n",
    "we pick 1000 of them"
   ]
  },
  {
   "cell_type": "code",
   "execution_count": null,
   "id": "aeeca8bf",
   "metadata": {},
   "outputs": [],
   "source": [
    "data = pd.read_csv('dailyActivity_merged.csv')\n",
    "data_1 = data.head(1000)\n"
   ]
  },
  {
   "cell_type": "code",
   "execution_count": null,
   "id": "686aa05c",
   "metadata": {},
   "outputs": [],
   "source": [
    "\n",
    "n = len(data_1.axes[0])\n",
    "p = len(data_1.axes[1])\n",
    "X,y=np.zeros((n,p)),np.ones((n,1))\n",
    "\n",
    "with pm.Model() as MLR:\n",
    "    betas = pm.MvNormal('betas', mu=np.zeros((p,1)), cov=np.eye(p), shape=(p,1))\n",
    "    sigma = pm.TruncatedNormal('sigma', mu=1, sigma=1, lower=0) # half normal\n",
    "    y = pm.Normal('y', mu=pm.math.dot(X, betas), sigma=sigma, observed=y)\n",
    "\n",
    "with MLR:\n",
    "    idata = pm.sample()"
   ]
  },
  {
   "cell_type": "code",
   "execution_count": null,
   "id": "b8f35e53",
   "metadata": {},
   "outputs": [],
   "source": [
    "n = len(data_1.axes[0])\n",
    "p = len(data_1.axes[1])\n",
    "X,y=np.zeros((n,p)),np.ones((n,1))\n",
    "Psi=np.eye(p); a_cov = stats.invwishart(df=p+2, scale=Psi).rvs(1)\n",
    "y=stats.multivariate_normal(mean=np.zeros(p), cov=a_cov).rvs(size=n)\n",
    "\n",
    "    \n",
    "with pm.Model() as MNV_LKJ:\n",
    "    packed_L = pm.LKJCholeskyCov(\"packed_L\", n=p, eta=2.0,\n",
    "                                 sd_dist=pm.Exponential.dist(1.0, shape=2), compute_corr=False)\n",
    "    L = pm.expand_packed_triangular(p, packed_L)\n",
    "    Sigma = pm.Deterministic('Sigma', L.dot(L.T)) \n",
    "    mu = pm.MvNormal('mu', mu=np.array(0), cov=np.eye(p), shape=p); \n",
    "    y = pm.MvNormal('y', mu=mu, cov=Sigma, shape=(n,1), observed=y) \n",
    "   \n",
    "with MNV_LKJ:    \n",
    "    idata = pm.sample()"
   ]
  },
  {
   "cell_type": "code",
   "execution_count": null,
   "id": "976644ac",
   "metadata": {},
   "outputs": [],
   "source": []
  }
 ],
 "metadata": {
  "kernelspec": {
   "display_name": "Python 3 (ipykernel)",
   "language": "python",
   "name": "python3"
  },
  "language_info": {
   "codemirror_mode": {
    "name": "ipython",
    "version": 3
   },
   "file_extension": ".py",
   "mimetype": "text/x-python",
   "name": "python",
   "nbconvert_exporter": "python",
   "pygments_lexer": "ipython3",
   "version": "3.11.6"
  }
 },
 "nbformat": 4,
 "nbformat_minor": 5
}
